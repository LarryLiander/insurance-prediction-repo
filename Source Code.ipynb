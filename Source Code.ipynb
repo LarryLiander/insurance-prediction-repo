{
  "nbformat": 4,
  "nbformat_minor": 0,
  "metadata": {
    "colab": {
      "name": "Project BDA - v6.0 .ipynb",
      "provenance": [],
      "collapsed_sections": []
    },
    "kernelspec": {
      "name": "python3",
      "display_name": "Python 3"
    }
  },
  "cells": [
    {
      "cell_type": "code",
      "metadata": {
        "id": "kdq4qA4wajx1",
        "colab": {
          "base_uri": "https://localhost:8080/"
        },
        "outputId": "a5f7d71e-1a5e-4719-d6e4-1c051a8e76d7"
      },
      "source": [
        "#untuk bisa mendownload langsung dari kaggle, langkah awal adalah mount drive kita\n",
        "#karena nantinya hasil download akan disimpan disana\n",
        "\n",
        "from google.colab import drive\n",
        "drive.mount('/content/gdrive')"
      ],
      "execution_count": 1,
      "outputs": [
        {
          "output_type": "stream",
          "text": [
            "Mounted at /content/gdrive\n"
          ],
          "name": "stdout"
        }
      ]
    },
    {
      "cell_type": "code",
      "metadata": {
        "id": "gAlE-CwQa1ut",
        "colab": {
          "base_uri": "https://localhost:8080/"
        },
        "outputId": "81846912-488f-4377-8c00-d018fedb246f"
      },
      "source": [
        "#sebelum run code ini, buatlah folder Kaggle pada My Drive, dan taruh kaggle.json\n",
        "#kaggle.json akan membantu untuk mendownload datasets dari kaggle hanya berdasarkan API yang bisa di copy\n",
        "\n",
        "import os\n",
        "os.environ['KAGGLE_CONFIG_DIR'] = \"/content/gdrive/My Drive/Kaggle\"\n",
        "# /content/gdrive/My Drive/Kaggle is the path where kaggle.json is present in the Google Drive\n",
        "\n",
        "#changing the working directory\n",
        "%cd /content/gdrive/My Drive/Kaggle\n",
        "#Check the present working directory using pwd command"
      ],
      "execution_count": 2,
      "outputs": [
        {
          "output_type": "stream",
          "text": [
            "/content/gdrive/My Drive/Kaggle\n"
          ],
          "name": "stdout"
        }
      ]
    },
    {
      "cell_type": "code",
      "metadata": {
        "id": "UPQLOsiFbF-L",
        "colab": {
          "base_uri": "https://localhost:8080/"
        },
        "outputId": "afe4108b-cd4f-404b-eb8b-ce6d26c67afb"
      },
      "source": [
        "#Apabila belum pernah menginstall kaggle, maka perlu dijalankan\n",
        "!pip install -q kaggle\n",
        "\n",
        "#Mendownload datasets dan akan tersimpan di folder /My Drive/Kaggle/\n",
        "!kaggle datasets download -d anmolkumar/health-insurance-cross-sell-prediction\n",
        "\n",
        "#pastikan terdapat kaggle.json di folder Kaggle, karena jika tidak maka akan terjadi error\n",
        "#cara mendapatkannya adalah buka kaggle, lalu download API nya"
      ],
      "execution_count": 3,
      "outputs": [
        {
          "output_type": "stream",
          "text": [
            "Downloading health-insurance-cross-sell-prediction.zip to /content/gdrive/My Drive/Kaggle\n",
            " 77% 5.00M/6.47M [00:00<00:00, 22.8MB/s]\n",
            "100% 6.47M/6.47M [00:00<00:00, 25.6MB/s]\n"
          ],
          "name": "stdout"
        }
      ]
    },
    {
      "cell_type": "code",
      "metadata": {
        "id": "ak4TotiHbZpG",
        "colab": {
          "base_uri": "https://localhost:8080/"
        },
        "outputId": "fe003296-f9cd-4518-f6a4-3ff441484174"
      },
      "source": [
        "#unzipping the zip files and deleting the zip files\n",
        "!unzip \\*.zip  && rm *.zip\n",
        "\n",
        "#karena semua file yang didonload di kaggle, akan berbentuk zip\n",
        "#maka unzip file nya"
      ],
      "execution_count": 4,
      "outputs": [
        {
          "output_type": "stream",
          "text": [
            "Archive:  health-insurance-cross-sell-prediction.zip\n",
            "  inflating: sample_submission.csv   \n",
            "  inflating: test.csv                \n",
            "  inflating: train.csv               \n"
          ],
          "name": "stdout"
        }
      ]
    },
    {
      "cell_type": "code",
      "metadata": {
        "id": "qyujXAWUeku9"
      },
      "source": [
        "import numpy as np\n",
        "import pandas as pd\n",
        "\n",
        "pima = pd.read_csv(\"train.csv\")"
      ],
      "execution_count": 5,
      "outputs": []
    },
    {
      "cell_type": "code",
      "metadata": {
        "id": "De6Da6xx9uFk",
        "colab": {
          "base_uri": "https://localhost:8080/",
          "height": 424
        },
        "outputId": "0e849077-c3d4-4d22-c0b1-407b823f5d28"
      },
      "source": [
        "pima"
      ],
      "execution_count": 6,
      "outputs": [
        {
          "output_type": "execute_result",
          "data": {
            "text/html": [
              "<div>\n",
              "<style scoped>\n",
              "    .dataframe tbody tr th:only-of-type {\n",
              "        vertical-align: middle;\n",
              "    }\n",
              "\n",
              "    .dataframe tbody tr th {\n",
              "        vertical-align: top;\n",
              "    }\n",
              "\n",
              "    .dataframe thead th {\n",
              "        text-align: right;\n",
              "    }\n",
              "</style>\n",
              "<table border=\"1\" class=\"dataframe\">\n",
              "  <thead>\n",
              "    <tr style=\"text-align: right;\">\n",
              "      <th></th>\n",
              "      <th>id</th>\n",
              "      <th>Gender</th>\n",
              "      <th>Age</th>\n",
              "      <th>Driving_License</th>\n",
              "      <th>Region_Code</th>\n",
              "      <th>Previously_Insured</th>\n",
              "      <th>Vehicle_Age</th>\n",
              "      <th>Vehicle_Damage</th>\n",
              "      <th>Annual_Premium</th>\n",
              "      <th>Policy_Sales_Channel</th>\n",
              "      <th>Vintage</th>\n",
              "      <th>Response</th>\n",
              "    </tr>\n",
              "  </thead>\n",
              "  <tbody>\n",
              "    <tr>\n",
              "      <th>0</th>\n",
              "      <td>1</td>\n",
              "      <td>Male</td>\n",
              "      <td>44</td>\n",
              "      <td>1</td>\n",
              "      <td>28.0</td>\n",
              "      <td>0</td>\n",
              "      <td>&gt; 2 Years</td>\n",
              "      <td>Yes</td>\n",
              "      <td>40454.0</td>\n",
              "      <td>26.0</td>\n",
              "      <td>217</td>\n",
              "      <td>1</td>\n",
              "    </tr>\n",
              "    <tr>\n",
              "      <th>1</th>\n",
              "      <td>2</td>\n",
              "      <td>Male</td>\n",
              "      <td>76</td>\n",
              "      <td>1</td>\n",
              "      <td>3.0</td>\n",
              "      <td>0</td>\n",
              "      <td>1-2 Year</td>\n",
              "      <td>No</td>\n",
              "      <td>33536.0</td>\n",
              "      <td>26.0</td>\n",
              "      <td>183</td>\n",
              "      <td>0</td>\n",
              "    </tr>\n",
              "    <tr>\n",
              "      <th>2</th>\n",
              "      <td>3</td>\n",
              "      <td>Male</td>\n",
              "      <td>47</td>\n",
              "      <td>1</td>\n",
              "      <td>28.0</td>\n",
              "      <td>0</td>\n",
              "      <td>&gt; 2 Years</td>\n",
              "      <td>Yes</td>\n",
              "      <td>38294.0</td>\n",
              "      <td>26.0</td>\n",
              "      <td>27</td>\n",
              "      <td>1</td>\n",
              "    </tr>\n",
              "    <tr>\n",
              "      <th>3</th>\n",
              "      <td>4</td>\n",
              "      <td>Male</td>\n",
              "      <td>21</td>\n",
              "      <td>1</td>\n",
              "      <td>11.0</td>\n",
              "      <td>1</td>\n",
              "      <td>&lt; 1 Year</td>\n",
              "      <td>No</td>\n",
              "      <td>28619.0</td>\n",
              "      <td>152.0</td>\n",
              "      <td>203</td>\n",
              "      <td>0</td>\n",
              "    </tr>\n",
              "    <tr>\n",
              "      <th>4</th>\n",
              "      <td>5</td>\n",
              "      <td>Female</td>\n",
              "      <td>29</td>\n",
              "      <td>1</td>\n",
              "      <td>41.0</td>\n",
              "      <td>1</td>\n",
              "      <td>&lt; 1 Year</td>\n",
              "      <td>No</td>\n",
              "      <td>27496.0</td>\n",
              "      <td>152.0</td>\n",
              "      <td>39</td>\n",
              "      <td>0</td>\n",
              "    </tr>\n",
              "    <tr>\n",
              "      <th>...</th>\n",
              "      <td>...</td>\n",
              "      <td>...</td>\n",
              "      <td>...</td>\n",
              "      <td>...</td>\n",
              "      <td>...</td>\n",
              "      <td>...</td>\n",
              "      <td>...</td>\n",
              "      <td>...</td>\n",
              "      <td>...</td>\n",
              "      <td>...</td>\n",
              "      <td>...</td>\n",
              "      <td>...</td>\n",
              "    </tr>\n",
              "    <tr>\n",
              "      <th>381104</th>\n",
              "      <td>381105</td>\n",
              "      <td>Male</td>\n",
              "      <td>74</td>\n",
              "      <td>1</td>\n",
              "      <td>26.0</td>\n",
              "      <td>1</td>\n",
              "      <td>1-2 Year</td>\n",
              "      <td>No</td>\n",
              "      <td>30170.0</td>\n",
              "      <td>26.0</td>\n",
              "      <td>88</td>\n",
              "      <td>0</td>\n",
              "    </tr>\n",
              "    <tr>\n",
              "      <th>381105</th>\n",
              "      <td>381106</td>\n",
              "      <td>Male</td>\n",
              "      <td>30</td>\n",
              "      <td>1</td>\n",
              "      <td>37.0</td>\n",
              "      <td>1</td>\n",
              "      <td>&lt; 1 Year</td>\n",
              "      <td>No</td>\n",
              "      <td>40016.0</td>\n",
              "      <td>152.0</td>\n",
              "      <td>131</td>\n",
              "      <td>0</td>\n",
              "    </tr>\n",
              "    <tr>\n",
              "      <th>381106</th>\n",
              "      <td>381107</td>\n",
              "      <td>Male</td>\n",
              "      <td>21</td>\n",
              "      <td>1</td>\n",
              "      <td>30.0</td>\n",
              "      <td>1</td>\n",
              "      <td>&lt; 1 Year</td>\n",
              "      <td>No</td>\n",
              "      <td>35118.0</td>\n",
              "      <td>160.0</td>\n",
              "      <td>161</td>\n",
              "      <td>0</td>\n",
              "    </tr>\n",
              "    <tr>\n",
              "      <th>381107</th>\n",
              "      <td>381108</td>\n",
              "      <td>Female</td>\n",
              "      <td>68</td>\n",
              "      <td>1</td>\n",
              "      <td>14.0</td>\n",
              "      <td>0</td>\n",
              "      <td>&gt; 2 Years</td>\n",
              "      <td>Yes</td>\n",
              "      <td>44617.0</td>\n",
              "      <td>124.0</td>\n",
              "      <td>74</td>\n",
              "      <td>0</td>\n",
              "    </tr>\n",
              "    <tr>\n",
              "      <th>381108</th>\n",
              "      <td>381109</td>\n",
              "      <td>Male</td>\n",
              "      <td>46</td>\n",
              "      <td>1</td>\n",
              "      <td>29.0</td>\n",
              "      <td>0</td>\n",
              "      <td>1-2 Year</td>\n",
              "      <td>No</td>\n",
              "      <td>41777.0</td>\n",
              "      <td>26.0</td>\n",
              "      <td>237</td>\n",
              "      <td>0</td>\n",
              "    </tr>\n",
              "  </tbody>\n",
              "</table>\n",
              "<p>381109 rows × 12 columns</p>\n",
              "</div>"
            ],
            "text/plain": [
              "            id  Gender  Age  ...  Policy_Sales_Channel  Vintage  Response\n",
              "0            1    Male   44  ...                  26.0      217         1\n",
              "1            2    Male   76  ...                  26.0      183         0\n",
              "2            3    Male   47  ...                  26.0       27         1\n",
              "3            4    Male   21  ...                 152.0      203         0\n",
              "4            5  Female   29  ...                 152.0       39         0\n",
              "...        ...     ...  ...  ...                   ...      ...       ...\n",
              "381104  381105    Male   74  ...                  26.0       88         0\n",
              "381105  381106    Male   30  ...                 152.0      131         0\n",
              "381106  381107    Male   21  ...                 160.0      161         0\n",
              "381107  381108  Female   68  ...                 124.0       74         0\n",
              "381108  381109    Male   46  ...                  26.0      237         0\n",
              "\n",
              "[381109 rows x 12 columns]"
            ]
          },
          "metadata": {
            "tags": []
          },
          "execution_count": 6
        }
      ]
    },
    {
      "cell_type": "markdown",
      "metadata": {
        "id": "Mv02ncZA7NFB"
      },
      "source": [
        "Penjelasan mengenai column-column"
      ]
    },
    {
      "cell_type": "markdown",
      "metadata": {
        "id": "73ZyFHzp5z3r"
      },
      "source": [
        "![Screenshot 2020-11-19 120429.png](data:image/png;base64,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)"
      ]
    },
    {
      "cell_type": "code",
      "metadata": {
        "id": "goTrkWpKdFeK",
        "colab": {
          "base_uri": "https://localhost:8080/",
          "height": 248
        },
        "outputId": "115b612a-82a7-4329-d251-5d40b7a23cf5"
      },
      "source": [
        "#ini code untuk menghitung jumlah class dependent/respond 1 dan 0\n",
        "total1 = 0\n",
        "total0 = 0\n",
        "for i in pima.iloc[:,-1]: \n",
        "  if i==0: total0+=1\n",
        "  else: total1+=1\n",
        "\n",
        "#ini code untuk menampilkan hasilnya\n",
        "import matplotlib.pyplot as plt\n",
        "\n",
        "# Data to plot\n",
        "labels = 'mau', 'tidak mau'\n",
        "sizes = [total1, total0]\n",
        "colors = ['lightcoral', 'lightskyblue']\n",
        "explode = (0.2, 0)  # explode 1st slice\n",
        "\n",
        "# Plot\n",
        "plt.pie(sizes, explode=explode, labels=labels, colors=colors,\n",
        "autopct='%1.1f%%', startangle=150)\n",
        "\n",
        "plt.axis('equal')\n",
        "plt.show()"
      ],
      "execution_count": 7,
      "outputs": [
        {
          "output_type": "display_data",
          "data": {
            "image/png": "[encoded data removed]",
            "text/plain": [
              "<Figure size 432x288 with 1 Axes>"
            ]
          },
          "metadata": {
            "tags": []
          }
        }
      ]
    },
    {
      "cell_type": "markdown",
      "metadata": {
        "id": "3GnHwD65tbdN"
      },
      "source": [
        "Karena tidak seimbang antara class dependent/Respond 'Mau' dan 'Tidak Mau', maka sebaiknya kita seimbangkan sebelum memasukkan dalam proses training dan testing. <br> \n",
        "karena jika tidak, maka bisa saja akan bias dalam prediksinya, akurasinya juga bisa bias karena yang di training dan testing kebanyakan 'tidak mau'."
      ]
    },
    {
      "cell_type": "code",
      "metadata": {
        "id": "z-gdXOpNs7bQ"
      },
      "source": [
        "response1x = []\n",
        "response1y = [1 for i in range(10000)] #Disini akan membuat array yang berisi 1 sebanyak 10000\n",
        "#karena response1x adalah array yang response nya 1 (mau untuk membeli asuransi)\n",
        "\n",
        "response0x = []\n",
        "response0y = [0 for i in range(10000)] #Disini akan membuat array yang berisi 0 sebanyak 10000\n",
        "#karena response1x adalah array yang response nya 0 (tidak mau untuk membeli asuransi)\n",
        "\n",
        "#Dataset yang kita punya, response yang berisi 0 jauh lebih banyak dari response yang berisi 1.\n",
        "#karena itu kita akan menyeimbangkannya dengan mengambil 10000 data yang responsenya 1 dan 10000 yang 0\n",
        "#karena kalau langsung dirandom, hampir pasti response 0 lebih banyak\n",
        "#dan kemungkinan hasil kita nanti akan bias(cenderung hasilnya 0)\n",
        "\n",
        "for i in range(1, 85000): #Karena jumlah respond yang 0 jauh lebih banyak dari yang 1\n",
        "                          #dari 85000 data, hanya 10000an lebih yang response 1\n",
        "  if (pima.Response[i]==0):\n",
        "    if (len(response0x)<10000):\n",
        "      response0x.append(pima.iloc[i,[1,2,3,5,6,7,8,9,10]]) # memilih column (id,region_code,response tidak ikut) \n",
        "  else:\n",
        "    if (len(response1x)<10000):\n",
        "      response1x.append(pima.iloc[i,[1,2,3,5,6,7,8,9,10]]) # memilih column (id,region_code,response tidak ikut)\n",
        "    else:\n",
        "      break\n",
        "\n",
        "#code ini untuk menggabungkan response1x dan response0x\n",
        "r1x = pd.DataFrame(response1x)\n",
        "r0x = pd.DataFrame(response0x)\n",
        "X = pd.concat([r1x,r0x])\n",
        "\n",
        "r1y = pd.DataFrame(response1y)\n",
        "r0y = pd.DataFrame(response0y)\n",
        "y = pd.concat([r1y,r0y])"
      ],
      "execution_count": 8,
      "outputs": []
    },
    {
      "cell_type": "code",
      "metadata": {
        "id": "ID3ABXxmRpDi",
        "colab": {
          "base_uri": "https://localhost:8080/",
          "height": 424
        },
        "outputId": "34cb08eb-848d-4f13-9093-4e3c605399a9"
      },
      "source": [
        "X"
      ],
      "execution_count": 9,
      "outputs": [
        {
          "output_type": "execute_result",
          "data": {
            "text/html": [
              "<div>\n",
              "<style scoped>\n",
              "    .dataframe tbody tr th:only-of-type {\n",
              "        vertical-align: middle;\n",
              "    }\n",
              "\n",
              "    .dataframe tbody tr th {\n",
              "        vertical-align: top;\n",
              "    }\n",
              "\n",
              "    .dataframe thead th {\n",
              "        text-align: right;\n",
              "    }\n",
              "</style>\n",
              "<table border=\"1\" class=\"dataframe\">\n",
              "  <thead>\n",
              "    <tr style=\"text-align: right;\">\n",
              "      <th></th>\n",
              "      <th>Gender</th>\n",
              "      <th>Age</th>\n",
              "      <th>Driving_License</th>\n",
              "      <th>Previously_Insured</th>\n",
              "      <th>Vehicle_Age</th>\n",
              "      <th>Vehicle_Damage</th>\n",
              "      <th>Annual_Premium</th>\n",
              "      <th>Policy_Sales_Channel</th>\n",
              "      <th>Vintage</th>\n",
              "    </tr>\n",
              "  </thead>\n",
              "  <tbody>\n",
              "    <tr>\n",
              "      <th>2</th>\n",
              "      <td>Male</td>\n",
              "      <td>47</td>\n",
              "      <td>1</td>\n",
              "      <td>0</td>\n",
              "      <td>&gt; 2 Years</td>\n",
              "      <td>Yes</td>\n",
              "      <td>38294.0</td>\n",
              "      <td>26.0</td>\n",
              "      <td>27</td>\n",
              "    </tr>\n",
              "    <tr>\n",
              "      <th>7</th>\n",
              "      <td>Female</td>\n",
              "      <td>56</td>\n",
              "      <td>1</td>\n",
              "      <td>0</td>\n",
              "      <td>1-2 Year</td>\n",
              "      <td>Yes</td>\n",
              "      <td>32031.0</td>\n",
              "      <td>26.0</td>\n",
              "      <td>72</td>\n",
              "    </tr>\n",
              "    <tr>\n",
              "      <th>10</th>\n",
              "      <td>Female</td>\n",
              "      <td>47</td>\n",
              "      <td>1</td>\n",
              "      <td>0</td>\n",
              "      <td>1-2 Year</td>\n",
              "      <td>Yes</td>\n",
              "      <td>47576.0</td>\n",
              "      <td>124.0</td>\n",
              "      <td>46</td>\n",
              "    </tr>\n",
              "    <tr>\n",
              "      <th>15</th>\n",
              "      <td>Male</td>\n",
              "      <td>37</td>\n",
              "      <td>1</td>\n",
              "      <td>0</td>\n",
              "      <td>1-2 Year</td>\n",
              "      <td>Yes</td>\n",
              "      <td>2630.0</td>\n",
              "      <td>156.0</td>\n",
              "      <td>147</td>\n",
              "    </tr>\n",
              "    <tr>\n",
              "      <th>19</th>\n",
              "      <td>Female</td>\n",
              "      <td>60</td>\n",
              "      <td>1</td>\n",
              "      <td>0</td>\n",
              "      <td>1-2 Year</td>\n",
              "      <td>Yes</td>\n",
              "      <td>32363.0</td>\n",
              "      <td>124.0</td>\n",
              "      <td>102</td>\n",
              "    </tr>\n",
              "    <tr>\n",
              "      <th>...</th>\n",
              "      <td>...</td>\n",
              "      <td>...</td>\n",
              "      <td>...</td>\n",
              "      <td>...</td>\n",
              "      <td>...</td>\n",
              "      <td>...</td>\n",
              "      <td>...</td>\n",
              "      <td>...</td>\n",
              "      <td>...</td>\n",
              "    </tr>\n",
              "    <tr>\n",
              "      <th>11417</th>\n",
              "      <td>Male</td>\n",
              "      <td>50</td>\n",
              "      <td>1</td>\n",
              "      <td>0</td>\n",
              "      <td>1-2 Year</td>\n",
              "      <td>Yes</td>\n",
              "      <td>35252.0</td>\n",
              "      <td>26.0</td>\n",
              "      <td>54</td>\n",
              "    </tr>\n",
              "    <tr>\n",
              "      <th>11418</th>\n",
              "      <td>Male</td>\n",
              "      <td>33</td>\n",
              "      <td>1</td>\n",
              "      <td>1</td>\n",
              "      <td>1-2 Year</td>\n",
              "      <td>Yes</td>\n",
              "      <td>45212.0</td>\n",
              "      <td>122.0</td>\n",
              "      <td>192</td>\n",
              "    </tr>\n",
              "    <tr>\n",
              "      <th>11419</th>\n",
              "      <td>Male</td>\n",
              "      <td>48</td>\n",
              "      <td>1</td>\n",
              "      <td>0</td>\n",
              "      <td>1-2 Year</td>\n",
              "      <td>Yes</td>\n",
              "      <td>29725.0</td>\n",
              "      <td>29.0</td>\n",
              "      <td>279</td>\n",
              "    </tr>\n",
              "    <tr>\n",
              "      <th>11421</th>\n",
              "      <td>Female</td>\n",
              "      <td>28</td>\n",
              "      <td>1</td>\n",
              "      <td>1</td>\n",
              "      <td>&lt; 1 Year</td>\n",
              "      <td>No</td>\n",
              "      <td>23709.0</td>\n",
              "      <td>152.0</td>\n",
              "      <td>149</td>\n",
              "    </tr>\n",
              "    <tr>\n",
              "      <th>11422</th>\n",
              "      <td>Male</td>\n",
              "      <td>23</td>\n",
              "      <td>1</td>\n",
              "      <td>0</td>\n",
              "      <td>&lt; 1 Year</td>\n",
              "      <td>Yes</td>\n",
              "      <td>2630.0</td>\n",
              "      <td>152.0</td>\n",
              "      <td>145</td>\n",
              "    </tr>\n",
              "  </tbody>\n",
              "</table>\n",
              "<p>20000 rows × 9 columns</p>\n",
              "</div>"
            ],
            "text/plain": [
              "       Gender  Age  ...  Policy_Sales_Channel  Vintage\n",
              "2        Male   47  ...                  26.0       27\n",
              "7      Female   56  ...                  26.0       72\n",
              "10     Female   47  ...                 124.0       46\n",
              "15       Male   37  ...                 156.0      147\n",
              "19     Female   60  ...                 124.0      102\n",
              "...       ...  ...  ...                   ...      ...\n",
              "11417    Male   50  ...                  26.0       54\n",
              "11418    Male   33  ...                 122.0      192\n",
              "11419    Male   48  ...                  29.0      279\n",
              "11421  Female   28  ...                 152.0      149\n",
              "11422    Male   23  ...                 152.0      145\n",
              "\n",
              "[20000 rows x 9 columns]"
            ]
          },
          "metadata": {
            "tags": []
          },
          "execution_count": 9
        }
      ]
    },
    {
      "cell_type": "markdown",
      "metadata": {
        "id": "AoApXUel0V0b"
      },
      "source": [
        "Cuplikan Data sebelum di preprocessing"
      ]
    },
    {
      "cell_type": "code",
      "metadata": {
        "id": "nTUgkl8wcyMu",
        "colab": {
          "base_uri": "https://localhost:8080/",
          "height": 404
        },
        "outputId": "f66ead18-b41e-459a-d815-5b76d9121449"
      },
      "source": [
        "y"
      ],
      "execution_count": 10,
      "outputs": [
        {
          "output_type": "execute_result",
          "data": {
            "text/html": [
              "<div>\n",
              "<style scoped>\n",
              "    .dataframe tbody tr th:only-of-type {\n",
              "        vertical-align: middle;\n",
              "    }\n",
              "\n",
              "    .dataframe tbody tr th {\n",
              "        vertical-align: top;\n",
              "    }\n",
              "\n",
              "    .dataframe thead th {\n",
              "        text-align: right;\n",
              "    }\n",
              "</style>\n",
              "<table border=\"1\" class=\"dataframe\">\n",
              "  <thead>\n",
              "    <tr style=\"text-align: right;\">\n",
              "      <th></th>\n",
              "      <th>0</th>\n",
              "    </tr>\n",
              "  </thead>\n",
              "  <tbody>\n",
              "    <tr>\n",
              "      <th>0</th>\n",
              "      <td>1</td>\n",
              "    </tr>\n",
              "    <tr>\n",
              "      <th>1</th>\n",
              "      <td>1</td>\n",
              "    </tr>\n",
              "    <tr>\n",
              "      <th>2</th>\n",
              "      <td>1</td>\n",
              "    </tr>\n",
              "    <tr>\n",
              "      <th>3</th>\n",
              "      <td>1</td>\n",
              "    </tr>\n",
              "    <tr>\n",
              "      <th>4</th>\n",
              "      <td>1</td>\n",
              "    </tr>\n",
              "    <tr>\n",
              "      <th>...</th>\n",
              "      <td>...</td>\n",
              "    </tr>\n",
              "    <tr>\n",
              "      <th>9995</th>\n",
              "      <td>0</td>\n",
              "    </tr>\n",
              "    <tr>\n",
              "      <th>9996</th>\n",
              "      <td>0</td>\n",
              "    </tr>\n",
              "    <tr>\n",
              "      <th>9997</th>\n",
              "      <td>0</td>\n",
              "    </tr>\n",
              "    <tr>\n",
              "      <th>9998</th>\n",
              "      <td>0</td>\n",
              "    </tr>\n",
              "    <tr>\n",
              "      <th>9999</th>\n",
              "      <td>0</td>\n",
              "    </tr>\n",
              "  </tbody>\n",
              "</table>\n",
              "<p>20000 rows × 1 columns</p>\n",
              "</div>"
            ],
            "text/plain": [
              "      0\n",
              "0     1\n",
              "1     1\n",
              "2     1\n",
              "3     1\n",
              "4     1\n",
              "...  ..\n",
              "9995  0\n",
              "9996  0\n",
              "9997  0\n",
              "9998  0\n",
              "9999  0\n",
              "\n",
              "[20000 rows x 1 columns]"
            ]
          },
          "metadata": {
            "tags": []
          },
          "execution_count": 10
        }
      ]
    },
    {
      "cell_type": "markdown",
      "metadata": {
        "id": "TUXPzwubvDj7"
      },
      "source": [
        "seperti yang bisa dilihat diatas, class dependent/respond nya masih 1 sebanyak 10000 lalu 0 sebanyak 10000. <br>\n",
        "akan kita preprocess lalu randomkan selanjutnya"
      ]
    },
    {
      "cell_type": "code",
      "metadata": {
        "id": "fkBkIh0LYqqJ"
      },
      "source": [
        "# encode categorical data\n",
        "from sklearn.preprocessing import LabelEncoder, OneHotEncoder\n",
        "labelencoder_X = LabelEncoder()\n",
        "X.iloc[:, 0] = labelencoder_X.fit_transform(X.iloc[:, 0]) #Encoder gender, hanya saja pakai iloc\n",
        "X['Vehicle_Age'] = labelencoder_X.fit_transform(X['Vehicle_Age']) #encoder Vehicle age\n",
        "X['Vehicle_Damage'] = labelencoder_X.fit_transform(X['Vehicle_Damage']) #encoder vehicle damage\n",
        "\n",
        "#minmax scaling untuk Age, Annual_Premium,'Policy_sales Channel\n",
        "from sklearn.preprocessing import MinMaxScaler\n",
        "scaler = MinMaxScaler(feature_range=(1, 5))\n",
        "X[['Age','Annual_Premium','Policy_Sales_Channel','Vintage']] = scaler.fit_transform(X[['Age','Annual_Premium','Policy_Sales_Channel','Vintage']])\n",
        "# print(s)\n",
        "# rescaledX = scaler.fit_transform(X)\n",
        "# print(scaler.fit_transform([X['Age']]))\n",
        "\n",
        "\n",
        "#Split dataset menjadi training set and test set\n",
        "from sklearn.model_selection  import train_test_split\n",
        "X_train, X_test, y_train, y_test = train_test_split(X, y, test_size=0.3, random_state=1) # 70% training and 30% test"
      ],
      "execution_count": 11,
      "outputs": []
    },
    {
      "cell_type": "code",
      "metadata": {
        "id": "khvP9Z1Nmlql",
        "colab": {
          "base_uri": "https://localhost:8080/",
          "height": 365
        },
        "outputId": "55b264f7-82f8-44e5-d8cf-2aafc3da9b99"
      },
      "source": [
        "X_test.head(10)\n",
        "# print(y_test.head(10))\n",
        "# X_test.iloc[0]"
      ],
      "execution_count": 12,
      "outputs": [
        {
          "output_type": "execute_result",
          "data": {
            "text/html": [
              "<div>\n",
              "<style scoped>\n",
              "    .dataframe tbody tr th:only-of-type {\n",
              "        vertical-align: middle;\n",
              "    }\n",
              "\n",
              "    .dataframe tbody tr th {\n",
              "        vertical-align: top;\n",
              "    }\n",
              "\n",
              "    .dataframe thead th {\n",
              "        text-align: right;\n",
              "    }\n",
              "</style>\n",
              "<table border=\"1\" class=\"dataframe\">\n",
              "  <thead>\n",
              "    <tr style=\"text-align: right;\">\n",
              "      <th></th>\n",
              "      <th>Gender</th>\n",
              "      <th>Age</th>\n",
              "      <th>Driving_License</th>\n",
              "      <th>Previously_Insured</th>\n",
              "      <th>Vehicle_Age</th>\n",
              "      <th>Vehicle_Damage</th>\n",
              "      <th>Annual_Premium</th>\n",
              "      <th>Policy_Sales_Channel</th>\n",
              "      <th>Vintage</th>\n",
              "    </tr>\n",
              "  </thead>\n",
              "  <tbody>\n",
              "    <tr>\n",
              "      <th>1660</th>\n",
              "      <td>0</td>\n",
              "      <td>1.1875</td>\n",
              "      <td>1</td>\n",
              "      <td>1</td>\n",
              "      <td>1</td>\n",
              "      <td>0</td>\n",
              "      <td>1.123482</td>\n",
              "      <td>4.728395</td>\n",
              "      <td>3.588235</td>\n",
              "    </tr>\n",
              "    <tr>\n",
              "      <th>7438</th>\n",
              "      <td>1</td>\n",
              "      <td>2.6875</td>\n",
              "      <td>1</td>\n",
              "      <td>0</td>\n",
              "      <td>0</td>\n",
              "      <td>1</td>\n",
              "      <td>1.326654</td>\n",
              "      <td>4.037037</td>\n",
              "      <td>1.069204</td>\n",
              "    </tr>\n",
              "    <tr>\n",
              "      <th>26277</th>\n",
              "      <td>0</td>\n",
              "      <td>3.1875</td>\n",
              "      <td>1</td>\n",
              "      <td>0</td>\n",
              "      <td>0</td>\n",
              "      <td>1</td>\n",
              "      <td>1.421956</td>\n",
              "      <td>4.827160</td>\n",
              "      <td>4.141869</td>\n",
              "    </tr>\n",
              "    <tr>\n",
              "      <th>9845</th>\n",
              "      <td>1</td>\n",
              "      <td>2.9375</td>\n",
              "      <td>1</td>\n",
              "      <td>0</td>\n",
              "      <td>0</td>\n",
              "      <td>0</td>\n",
              "      <td>1.160496</td>\n",
              "      <td>4.728395</td>\n",
              "      <td>1.982699</td>\n",
              "    </tr>\n",
              "    <tr>\n",
              "      <th>12502</th>\n",
              "      <td>0</td>\n",
              "      <td>1.2500</td>\n",
              "      <td>1</td>\n",
              "      <td>0</td>\n",
              "      <td>1</td>\n",
              "      <td>1</td>\n",
              "      <td>1.000000</td>\n",
              "      <td>4.728395</td>\n",
              "      <td>2.467128</td>\n",
              "    </tr>\n",
              "    <tr>\n",
              "      <th>2931</th>\n",
              "      <td>1</td>\n",
              "      <td>1.1250</td>\n",
              "      <td>1</td>\n",
              "      <td>1</td>\n",
              "      <td>1</td>\n",
              "      <td>0</td>\n",
              "      <td>1.139548</td>\n",
              "      <td>4.728395</td>\n",
              "      <td>2.342561</td>\n",
              "    </tr>\n",
              "    <tr>\n",
              "      <th>6266</th>\n",
              "      <td>1</td>\n",
              "      <td>2.6875</td>\n",
              "      <td>1</td>\n",
              "      <td>0</td>\n",
              "      <td>0</td>\n",
              "      <td>1</td>\n",
              "      <td>1.000000</td>\n",
              "      <td>4.037037</td>\n",
              "      <td>2.910035</td>\n",
              "    </tr>\n",
              "    <tr>\n",
              "      <th>4550</th>\n",
              "      <td>0</td>\n",
              "      <td>1.2500</td>\n",
              "      <td>1</td>\n",
              "      <td>1</td>\n",
              "      <td>1</td>\n",
              "      <td>0</td>\n",
              "      <td>1.195046</td>\n",
              "      <td>4.728395</td>\n",
              "      <td>2.522491</td>\n",
              "    </tr>\n",
              "    <tr>\n",
              "      <th>77618</th>\n",
              "      <td>0</td>\n",
              "      <td>3.2500</td>\n",
              "      <td>1</td>\n",
              "      <td>0</td>\n",
              "      <td>0</td>\n",
              "      <td>1</td>\n",
              "      <td>1.419061</td>\n",
              "      <td>4.037037</td>\n",
              "      <td>2.162630</td>\n",
              "    </tr>\n",
              "    <tr>\n",
              "      <th>54149</th>\n",
              "      <td>1</td>\n",
              "      <td>2.4375</td>\n",
              "      <td>1</td>\n",
              "      <td>0</td>\n",
              "      <td>0</td>\n",
              "      <td>1</td>\n",
              "      <td>1.181227</td>\n",
              "      <td>1.617284</td>\n",
              "      <td>1.816609</td>\n",
              "    </tr>\n",
              "  </tbody>\n",
              "</table>\n",
              "</div>"
            ],
            "text/plain": [
              "       Gender     Age  ...  Policy_Sales_Channel   Vintage\n",
              "1660        0  1.1875  ...              4.728395  3.588235\n",
              "7438        1  2.6875  ...              4.037037  1.069204\n",
              "26277       0  3.1875  ...              4.827160  4.141869\n",
              "9845        1  2.9375  ...              4.728395  1.982699\n",
              "12502       0  1.2500  ...              4.728395  2.467128\n",
              "2931        1  1.1250  ...              4.728395  2.342561\n",
              "6266        1  2.6875  ...              4.037037  2.910035\n",
              "4550        0  1.2500  ...              4.728395  2.522491\n",
              "77618       0  3.2500  ...              4.037037  2.162630\n",
              "54149       1  2.4375  ...              1.617284  1.816609\n",
              "\n",
              "[10 rows x 9 columns]"
            ]
          },
          "metadata": {
            "tags": []
          },
          "execution_count": 12
        }
      ]
    },
    {
      "cell_type": "code",
      "metadata": {
        "id": "ZXLMEfXT01HG",
        "colab": {
          "base_uri": "https://localhost:8080/",
          "height": 345
        },
        "outputId": "8211c0b4-0e6e-4898-d1eb-ecdf1a2e6d1e"
      },
      "source": [
        "y_test.head(10)"
      ],
      "execution_count": 13,
      "outputs": [
        {
          "output_type": "execute_result",
          "data": {
            "text/html": [
              "<div>\n",
              "<style scoped>\n",
              "    .dataframe tbody tr th:only-of-type {\n",
              "        vertical-align: middle;\n",
              "    }\n",
              "\n",
              "    .dataframe tbody tr th {\n",
              "        vertical-align: top;\n",
              "    }\n",
              "\n",
              "    .dataframe thead th {\n",
              "        text-align: right;\n",
              "    }\n",
              "</style>\n",
              "<table border=\"1\" class=\"dataframe\">\n",
              "  <thead>\n",
              "    <tr style=\"text-align: right;\">\n",
              "      <th></th>\n",
              "      <th>0</th>\n",
              "    </tr>\n",
              "  </thead>\n",
              "  <tbody>\n",
              "    <tr>\n",
              "      <th>1456</th>\n",
              "      <td>0</td>\n",
              "    </tr>\n",
              "    <tr>\n",
              "      <th>6528</th>\n",
              "      <td>0</td>\n",
              "    </tr>\n",
              "    <tr>\n",
              "      <th>3253</th>\n",
              "      <td>1</td>\n",
              "    </tr>\n",
              "    <tr>\n",
              "      <th>8614</th>\n",
              "      <td>0</td>\n",
              "    </tr>\n",
              "    <tr>\n",
              "      <th>1544</th>\n",
              "      <td>1</td>\n",
              "    </tr>\n",
              "    <tr>\n",
              "      <th>2568</th>\n",
              "      <td>0</td>\n",
              "    </tr>\n",
              "    <tr>\n",
              "      <th>5497</th>\n",
              "      <td>0</td>\n",
              "    </tr>\n",
              "    <tr>\n",
              "      <th>3987</th>\n",
              "      <td>0</td>\n",
              "    </tr>\n",
              "    <tr>\n",
              "      <th>9598</th>\n",
              "      <td>1</td>\n",
              "    </tr>\n",
              "    <tr>\n",
              "      <th>6668</th>\n",
              "      <td>1</td>\n",
              "    </tr>\n",
              "  </tbody>\n",
              "</table>\n",
              "</div>"
            ],
            "text/plain": [
              "      0\n",
              "1456  0\n",
              "6528  0\n",
              "3253  1\n",
              "8614  0\n",
              "1544  1\n",
              "2568  0\n",
              "5497  0\n",
              "3987  0\n",
              "9598  1\n",
              "6668  1"
            ]
          },
          "metadata": {
            "tags": []
          },
          "execution_count": 13
        }
      ]
    },
    {
      "cell_type": "markdown",
      "metadata": {
        "id": "DAsupkQB0_5a"
      },
      "source": [
        "Sudah terandom dengan baik"
      ]
    },
    {
      "cell_type": "code",
      "metadata": {
        "id": "UypeTyCjqyRE",
        "colab": {
          "base_uri": "https://localhost:8080/",
          "height": 248
        },
        "outputId": "0bc6ff52-6fe8-40e1-f291-f1dc8be973e6"
      },
      "source": [
        "total1=0\n",
        "total0=0\n",
        "for i in y_train.iloc[:,0]:\n",
        "  if (i==1):\n",
        "    total1+=1\n",
        "  else:\n",
        "    total0+=1\n",
        "\n",
        "# Data to plot\n",
        "labels = 'mau', 'tidak mau'\n",
        "sizes = [total1, total0]\n",
        "colors = ['lightcoral', 'lightskyblue']\n",
        "explode = (0.1, 0)  # explode 1st slice\n",
        "\n",
        "# Plot\n",
        "plt.pie(sizes, explode=explode, labels=labels, colors=colors,\n",
        "autopct='%1.1f%%', startangle=150)\n",
        "\n",
        "plt.axis('equal')\n",
        "plt.show()"
      ],
      "execution_count": 14,
      "outputs": [
        {
          "output_type": "display_data",
          "data": {
            "image/png": "[encoded data removed]",
            "text/plain": [
              "<Figure size 432x288 with 1 Axes>"
            ]
          },
          "metadata": {
            "tags": []
          }
        }
      ]
    },
    {
      "cell_type": "markdown",
      "metadata": {
        "id": "wXWEnU-L1PKk"
      },
      "source": [
        "data untuk di training sudah terlihat seimbang meskipun di random split"
      ]
    },
    {
      "cell_type": "markdown",
      "metadata": {
        "id": "xMDHvVzzCHGl"
      },
      "source": [
        "https://towardsdatascience.com/how-to-find-the-optimal-value-of-k-in-knn-35d936e554eb#:~:text=The%20optimal%20K%20value%20usually,be%20aware%20of%20the%20outliers . <br>\n",
        "Link referensi untuk hampir semua code dibawah"
      ]
    },
    {
      "cell_type": "code",
      "metadata": {
        "id": "rSyZawULkLMN",
        "colab": {
          "base_uri": "https://localhost:8080/",
          "height": 421
        },
        "outputId": "8d3cb12f-7175-48b0-f65e-6bc47aa708a6"
      },
      "source": [
        "acc = []\n",
        "# Will take some time\n",
        "from sklearn.neighbors import KNeighborsClassifier\n",
        "import matplotlib.pyplot as plt\n",
        "from sklearn import metrics\n",
        "for i in range(1,100):\n",
        "    neigh = KNeighborsClassifier(n_neighbors = i).fit(X_train,y_train.values.ravel()) #Pake values.ravel() karena ada warning error kalau tidak dipakai\n",
        "    yhat = neigh.predict(X_test)\n",
        "    acc.append(metrics.accuracy_score(y_test, yhat))\n",
        "    \n",
        "plt.figure(figsize=(10,6))\n",
        "plt.plot(range(1,100),acc,color = 'blue',linestyle='dashed', \n",
        "         marker='o',markerfacecolor='red', markersize=10)\n",
        "plt.title('accuracy vs. K Value')\n",
        "plt.xlabel('K')\n",
        "plt.ylabel('Accuracy')\n",
        "print(\"Maximum accuracy:\",max(acc),\"at K =\",acc.index(max(acc)))\n",
        "\n",
        "ClassifierAkhir = KNeighborsClassifier(n_neighbors =acc.index(max(acc)) ).fit(X_train,y_train.values.ravel())"
      ],
      "execution_count": 15,
      "outputs": [
        {
          "output_type": "stream",
          "text": [
            "Maximum accuracy: 0.7993333333333333 at K = 37\n"
          ],
          "name": "stdout"
        },
        {
          "output_type": "display_data",
          "data": {
            "image/png": "[encoded data removed]",
            "text/plain": [
              "<Figure size 720x432 with 1 Axes>"
            ]
          },
          "metadata": {
            "tags": [],
            "needs_background": "light"
          }
        }
      ]
    },
    {
      "cell_type": "code",
      "metadata": {
        "id": "z58biLQe8ABg",
        "colab": {
          "base_uri": "https://localhost:8080/"
        },
        "outputId": "991fd271-1726-46d9-a6a7-3c028ed86463"
      },
      "source": [
        "#@title Double click Untuk melihat code.<br> Apabila sudah yakin, jalankan form ini dengan ctrl+enter { display-mode: \"form\" }\n",
        "\n",
        "Gender = 'Male' #@param [\"Male\", \"Female\"]\n",
        "Age = 18 #@param {type:\"slider\", min:5, max:100, step:1}\n",
        "Driving_License = True #@param {type:\"boolean\"}\n",
        "Previously_Insured = True #@param {type:\"boolean\"}\n",
        "Vehicle_Age = '>2 years' #@param [\"<1 year\", \"1-2 year\", \">2 years\"]\n",
        "Vehicle_Damage = True #@param {type:\"boolean\"}\n",
        "Annual_Premium = 10.0 #@param {type:\"number\"}\n",
        "Policy_Sales_Channel = 1 #@param {type:\"slider\", min:1, max:164, step:1}\n",
        "Vintage = 10 #@param {type:\"slider\", min:10, max:299, step:1}\n",
        "\n",
        "\n",
        "\n",
        "\n",
        "#Pre-process inputan user\n",
        "#Data setelah preprocess punya '_' setelah nama\n",
        "\n",
        "#Label Encoder Manual\n",
        "if Gender==\"Male\": #sudah dicek, labelencoder akan mengeluarkan 1 jika male\n",
        "  Gender_=1\n",
        "else:\n",
        "  Gender_=0\n",
        "\n",
        "if Driving_License: #Jika punya=1\n",
        "  Driving_License_=1\n",
        "else:\n",
        "  Driving_License_=0\n",
        "\n",
        "if Previously_Insured:\n",
        "  Previously_Insured_=1\n",
        "else:\n",
        "  Previously_Insured_=0\n",
        "\n",
        "if Vehicle_Age==\">2 years\": #sudah dicek, jika >2 -> 2\n",
        "  Vehicle_Age_=2\n",
        "elif Vehicle_Age==\"<1 year\": #sudah dicek, jika <1 -> 1\n",
        "  Vehicle_Age_=1\n",
        "else:\n",
        "  Vehicle_Age_=0\n",
        "\n",
        "if Vehicle_Damage:\n",
        "  Vehicle_Damage_=1\n",
        "else:\n",
        "  Vehicle_Damage_=0\n",
        "  \n",
        "#Minmax manual\n",
        "#pima adalah data sebelum di preprocess\n",
        "#X adalah data setelah di preprocess \n",
        "# rumus fungsi linier untuk preprocess dengan hasilnya range 1-5\n",
        "                                                                         #5-1 dari range 1-5\n",
        "                                                                                 #1 dari range 1-5, *minnya 1\n",
        "Age_ = (((Age-min(pima['Age'])) / (max(pima['Age'])-min(pima['Age']))) * (5-1)) + 1\n",
        "Annual_Premium_ = (((Annual_Premium-min(pima['Annual_Premium'])) / (max(pima['Annual_Premium'])-min(pima['Annual_Premium']))) * (5-1)) + 1\n",
        "Policy_Sales_Channel_ = (((Policy_Sales_Channel-min(pima['Policy_Sales_Channel'])) / (max(pima['Policy_Sales_Channel'])-min(pima['Policy_Sales_Channel']))) * (5-1)) + 1\n",
        "Vintage_ = (((Vintage-min(pima['Vintage'])) / (max(pima['Vintage'])-min(pima['Vintage']))) * (5-1)) + 1\n",
        "\n",
        "\n",
        "k = ClassifierAkhir.predict([[Gender_,Age_,Driving_License_,Previously_Insured_,Vehicle_Age_,Vehicle_Damage_,Annual_Premium_,Policy_Sales_Channel_,Vintage_]])\n",
        "k[0]\n",
        "if k[0]==0:\n",
        "  print(\"Berdasarkan Data yang Anda Masukkan, Model kami memprediksi bahwa customer akan '\\033[1mmenolak' tawaran asuransi mobil\")\n",
        "else :\n",
        "  print(\"Berdasarkan Data yang Anda Masukkan, Model kami memprediksi bahwa customer akan '\\033[1mmenerima' tawaran asuransi mobil\")"
      ],
      "execution_count": 20,
      "outputs": [
        {
          "output_type": "stream",
          "text": [
            "Berdasarkan Data yang Anda Masukkan, Model kami memprediksi bahwa customer akan '\u001b[1mmenerima' tawaran asuransi mobil\n"
          ],
          "name": "stdout"
        }
      ]
    }
  ]
}